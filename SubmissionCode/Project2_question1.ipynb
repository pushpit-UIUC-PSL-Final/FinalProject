{
 "cells": [
  {
   "cell_type": "code",
   "execution_count": 2,
   "metadata": {
    "ExecuteTime": {
     "end_time": "2019-12-16T19:35:50.202215Z",
     "start_time": "2019-12-16T19:35:50.196421Z"
    }
   },
   "outputs": [],
   "source": [
    "from mpl_toolkits.mplot3d import Axes3D\n",
    "from sklearn import preprocessing\n",
    "from sklearn.preprocessing import StandardScaler\n",
    "from sklearn.model_selection import train_test_split, GridSearchCV\n",
    "from sklearn import svm\n",
    "import os\n",
    "import xgboost as xgb\n",
    "import sklearn\n",
    "import matplotlib.pyplot as plt\n",
    "import numpy as np\n",
    "import pandas as pd\n",
    "import os\n",
    "from glob import glob\n",
    "import seaborn as sns\n",
    "from PIL import Image\n",
    "from sklearn.metrics import roc_auc_score, roc_curve, auc\n",
    "from sklearn.metrics import accuracy_score\n",
    "from sklearn.decomposition import PCA\n",
    "from sklearn.discriminant_analysis import LinearDiscriminantAnalysis\n",
    "from sklearn.ensemble import RandomForestClassifier\n",
    "from sklearn.neighbors import KNeighborsClassifier\n",
    "from sklearn.model_selection import train_test_split, cross_val_score\n",
    "from sklearn.model_selection import KFold, StratifiedKFold\n",
    "from sklearn.metrics import confusion_matrix, accuracy_score, classification_report\n",
    "from sklearn.linear_model import LogisticRegression\n",
    "\n",
    "import cv2\n",
    "%matplotlib inline\n",
    "sns.set_style(\"dark\")\n",
    "import warnings\n",
    "warnings.filterwarnings('ignore')"
   ]
  },
  {
   "cell_type": "code",
   "execution_count": 3,
   "metadata": {
    "ExecuteTime": {
     "end_time": "2019-12-16T19:35:52.373842Z",
     "start_time": "2019-12-16T19:35:52.369496Z"
    }
   },
   "outputs": [],
   "source": [
    "def load_image_data(folder_benign='../data/resized/benign', folder_malignant='../data/resized/malignant'):\n",
    "    ims_benign = np.array([cv2.imread(os.path.join(folder_benign, filename)) for filename in os.listdir(folder_benign)])\n",
    "    ims_malignant = np.array([cv2.imread(os.path.join(folder_malignant, filename)) for filename in os.listdir(folder_malignant)])\n",
    "    print(f\"Benign images vector shape: {ims_benign.shape}\")\n",
    "    print(f\"Malignant images vector shape: {ims_malignant.shape}\")\n",
    "    return ims_benign, ims_malignant"
   ]
  },
  {
   "cell_type": "code",
   "execution_count": 4,
   "metadata": {
    "ExecuteTime": {
     "end_time": "2019-12-16T19:35:54.261340Z",
     "start_time": "2019-12-16T19:35:54.258014Z"
    }
   },
   "outputs": [],
   "source": [
    "def flatten_image_vectors_and_generate_labels(ims_benign, ims_malignant):\n",
    "    X_benign = ims_benign.flatten().reshape(ims_benign.shape[0], ims_benign.shape[1] * ims_benign.shape[2] * ims_benign.shape[3])\n",
    "    X_malinant = ims_malignant.flatten().reshape(ims_malignant.shape[0], ims_malignant.shape[1] * ims_malignant.shape[2] * ims_malignant.shape[3])\n",
    "    return X_benign, X_malinant"
   ]
  },
  {
   "cell_type": "code",
   "execution_count": 5,
   "metadata": {
    "ExecuteTime": {
     "end_time": "2019-12-16T19:35:56.551461Z",
     "start_time": "2019-12-16T19:35:56.546451Z"
    }
   },
   "outputs": [],
   "source": [
    "def get_test_train_data(X_benign, X_malinant, seed, scaled=True):\n",
    "    X_train_benign, X_test_benign, Y_train_benign, Y_test_benign = train_test_split(X_benign, np.zeros(X_benign.shape[0]), test_size=0.1, random_state=seed)\n",
    "    X_train_malinant, X_test_malinant, Y_train_malinant, Y_test_malinant = train_test_split(X_malinant, np.ones(X_malinant.shape[0]), test_size=0.1, random_state=seed)\n",
    "    X_train = np.concatenate((X_train_benign, X_train_malinant), axis=0)\n",
    "    Y_train = np.concatenate((Y_train_benign, Y_train_malinant), axis=0)\n",
    "    X_test = np.concatenate((X_test_benign, X_test_malinant), axis=0)\n",
    "    Y_test = np.concatenate((Y_test_benign, Y_test_malinant), axis=0)\n",
    "    if scaled:\n",
    "        scaler = StandardScaler().fit(X_train)\n",
    "        X_train_scaled = scaler.transform(X_train)\n",
    "        X_test_scaled = scaler.transform(X_test)\n",
    "        return X_train_scaled, X_test_scaled, Y_train, Y_test\n",
    "    return (X_train, X_test, Y_train, Y_test)"
   ]
  },
  {
   "cell_type": "code",
   "execution_count": 89,
   "metadata": {
    "ExecuteTime": {
     "end_time": "2019-12-16T21:58:15.739554Z",
     "start_time": "2019-12-16T21:58:15.735217Z"
    }
   },
   "outputs": [],
   "source": [
    "def plot_confusion_matrix(cm, title='Confusion matrix', cmap=plt.cm.Oranges, names=['benign', 'malignant']):\n",
    "    plt.imshow(cm, interpolation='nearest', cmap=cmap)\n",
    "    plt.title(title)\n",
    "    plt.colorbar()\n",
    "    tick_marks = np.arange(len(names))\n",
    "    plt.xticks(tick_marks, names, rotation=45)\n",
    "    plt.yticks(tick_marks, names)\n",
    "    plt.tight_layout()\n",
    "    plt.ylabel('True label')\n",
    "    plt.xlabel('Predicted label')"
   ]
  },
  {
   "cell_type": "code",
   "execution_count": 125,
   "metadata": {
    "ExecuteTime": {
     "end_time": "2019-12-16T22:18:58.877276Z",
     "start_time": "2019-12-16T22:18:58.864752Z"
    }
   },
   "outputs": [],
   "source": [
    "def plot_roc_auc(Y_test, probs, title='Receiver operating characteristic (Holdout set)'):\n",
    "    fpr, tpr, _ = roc_curve(Y_test, probs)\n",
    "    roc_auc = auc(fpr, tpr)\n",
    "    plt.figure()\n",
    "    lw = 2\n",
    "    plt.plot(fpr, tpr, color='darkorange',\n",
    "             lw=lw, label='ROC curve (area = %0.2f)' % roc_auc)\n",
    "    plt.plot([0, 1], [0, 1], color='navy', lw=lw, linestyle='--')\n",
    "    plt.xlim([-0.02, 1.0])\n",
    "    plt.ylim([0.0, 1.05])\n",
    "    plt.xlabel('False Positive Rate')\n",
    "    plt.ylabel('True Positive Rate')\n",
    "    plt.title(title)\n",
    "    plt.legend(loc=\"lower right\")\n",
    "    plt.show()"
   ]
  },
  {
   "cell_type": "code",
   "execution_count": 29,
   "metadata": {
    "ExecuteTime": {
     "end_time": "2019-12-16T20:06:51.014616Z",
     "start_time": "2019-12-16T20:04:35.413254Z"
    }
   },
   "outputs": [
    {
     "name": "stdout",
     "output_type": "stream",
     "text": [
      "Benign images vector shape: (150, 450, 600, 3)\n",
      "Malignant images vector shape: (150, 450, 600, 3)\n"
     ]
    }
   ],
   "source": [
    "seed=42\n",
    "ims_benign, ims_malignant = load_image_data('../data/resized_600_450/benign', '../data/resized_600_450/malignant/')\n",
    "X_benign,X_malinant = flatten_image_vectors_and_generate_labels(ims_benign=ims_benign, ims_malignant=ims_malignant)\n",
    "X = np.concatenate((X_benign, X_malinant), axis=0)\n",
    "Y = np.concatenate((np.zeros(X_benign.shape[0]), np.ones(X_malinant.shape[0])))\n",
    "scaler = StandardScaler().fit(X)\n",
    "X_scaled = scaler.transform(X)\n",
    "pca = PCA(.998)\n",
    "pca.fit(X_scaled)\n",
    "X_pca = pca.transform(X_scaled)"
   ]
  },
  {
   "cell_type": "code",
   "execution_count": 207,
   "metadata": {
    "ExecuteTime": {
     "end_time": "2019-12-17T01:50:19.086408Z",
     "start_time": "2019-12-17T01:50:19.035004Z"
    }
   },
   "outputs": [
    {
     "data": {
      "text/plain": [
       "(300, 263)"
      ]
     },
     "execution_count": 207,
     "metadata": {},
     "output_type": "execute_result"
    }
   ],
   "source": [
    "X_pca.shape"
   ]
  },
  {
   "cell_type": "code",
   "execution_count": 64,
   "metadata": {
    "ExecuteTime": {
     "end_time": "2019-12-16T20:45:10.815777Z",
     "start_time": "2019-12-16T20:45:10.805521Z"
    }
   },
   "outputs": [],
   "source": [
    "X_train, X_test, Y_train, Y_test = train_test_split(X_pca, Y, test_size=0.2, random_state=42)"
   ]
  },
  {
   "cell_type": "code",
   "execution_count": 65,
   "metadata": {
    "ExecuteTime": {
     "end_time": "2019-12-16T20:45:14.105636Z",
     "start_time": "2019-12-16T20:45:14.081195Z"
    }
   },
   "outputs": [],
   "source": [
    "seed = 42\n",
    "num_trees=150\n",
    "models = {\n",
    "     'SVM' : svm.SVC(random_state=42, gamma='scale'),\n",
    "     'LDA' : LinearDiscriminantAnalysis(),\n",
    "     'XGBoost' : xgb.XGBClassifier(),\n",
    "     'RF': RandomForestClassifier(n_estimators=num_trees, random_state=seed),\n",
    "     'LR':LogisticRegression(solver='lbfgs', max_iter=1000)\n",
    " }"
   ]
  },
  {
   "cell_type": "code",
   "execution_count": 147,
   "metadata": {
    "ExecuteTime": {
     "end_time": "2019-12-16T22:56:08.273513Z",
     "start_time": "2019-12-16T22:56:04.170793Z"
    }
   },
   "outputs": [
    {
     "name": "stdout",
     "output_type": "stream",
     "text": [
      "Model:SVM --> Mean:[0.5866666666666667] , STD:[0.11274356350191841]\n",
      "Model:LDA --> Mean:[0.52] , STD:[0.0805536398239638]\n",
      "Model:XGBoost --> Mean:[0.5933333333333333] , STD:[0.11333333333333334]\n",
      "Model:RF --> Mean:[0.6233333333333334] , STD:[0.0683942817622773]\n",
      "Model:LR --> Mean:[0.5599999999999999] , STD:[0.08793937305515277]\n"
     ]
    },
    {
     "data": {
      "image/png": "[encoded data removed]",
      "text/plain": [
       "<Figure size 432x288 with 1 Axes>"
      ]
     },
     "metadata": {},
     "output_type": "display_data"
    }
   ],
   "source": [
    "results = []\n",
    "names =[]\n",
    "for name, model in models.items():\n",
    "    cv_results = cross_val_score(model, X_pca, Y, cv=KFold(n_splits=10), scoring=\"accuracy\", n_jobs=-1)\n",
    "    print(f\"Model:{name} --> Mean:[{cv_results.mean()}] , STD:[{cv_results.std()}]\")\n",
    "    names.append(name)\n",
    "    results.append(cv_results)\n",
    "fig = plt.figure()\n",
    "fig.suptitle(f'Model Comparison')\n",
    "ax = fig.add_subplot(111)\n",
    "plt.boxplot(results)\n",
    "ax.set_xticklabels(names)\n",
    "plt.ylabel(\"Accuracy\")\n",
    "plt.show()"
   ]
  },
  {
   "cell_type": "code",
   "execution_count": 71,
   "metadata": {
    "ExecuteTime": {
     "end_time": "2019-12-16T21:36:04.835934Z",
     "start_time": "2019-12-16T21:35:56.731627Z"
    }
   },
   "outputs": [
    {
     "name": "stdout",
     "output_type": "stream",
     "text": [
      "Fitting 10 folds for each of 75 candidates, totalling 750 fits\n"
     ]
    },
    {
     "name": "stderr",
     "output_type": "stream",
     "text": [
      "[Parallel(n_jobs=5)]: Using backend LokyBackend with 5 concurrent workers.\n",
      "[Parallel(n_jobs=5)]: Done  22 tasks      | elapsed:    2.6s\n",
      "[Parallel(n_jobs=5)]: Done 564 tasks      | elapsed:    6.6s\n",
      "[Parallel(n_jobs=5)]: Done 741 out of 750 | elapsed:    8.0s remaining:    0.1s\n",
      "[Parallel(n_jobs=5)]: Done 750 out of 750 | elapsed:    8.0s finished\n"
     ]
    },
    {
     "data": {
      "text/plain": [
       "GridSearchCV(cv=KFold(n_splits=10, random_state=None, shuffle=False),\n",
       "             error_score='raise-deprecating',\n",
       "             estimator=SVC(C=1.0, cache_size=200, class_weight=None, coef0=0.0,\n",
       "                           decision_function_shape='ovr', degree=3,\n",
       "                           gamma='auto_deprecated', kernel='rbf', max_iter=-1,\n",
       "                           probability=False, random_state=None, shrinking=True,\n",
       "                           tol=0.001, verbose=False),\n",
       "             iid='warn', n_jobs=5,\n",
       "             param_grid={'C': [0.1, 1, 10, 100, 1000],\n",
       "                         'gamma': [1, 0.1, 0.01, 0.001, 0.0001],\n",
       "                         'kernel': ['rbf', 'linear', 'poly']},\n",
       "             pre_dispatch='2*n_jobs', refit=True, return_train_score=False,\n",
       "             scoring='accuracy', verbose=3)"
      ]
     },
     "execution_count": 71,
     "metadata": {},
     "output_type": "execute_result"
    }
   ],
   "source": [
    "param_grid = {'C': [0.1, 1, 10, 100, 1000],  \n",
    "              'gamma': [1, 0.1, 0.01, 0.001, 0.0001], \n",
    "              'kernel': ['rbf', 'linear', 'poly']}\n",
    "grid = GridSearchCV(svm.SVC(), param_grid, refit = True, verbose = 3, cv=KFold(n_splits=10), n_jobs=5, scoring=\"accuracy\")   \n",
    "grid.fit(X_train, Y_train)"
   ]
  },
  {
   "cell_type": "code",
   "execution_count": 178,
   "metadata": {
    "ExecuteTime": {
     "end_time": "2019-12-16T23:53:02.352504Z",
     "start_time": "2019-12-16T23:53:02.337623Z"
    }
   },
   "outputs": [
    {
     "data": {
      "text/plain": [
       "{'C': 0.1, 'gamma': 1, 'kernel': 'poly'}"
      ]
     },
     "execution_count": 178,
     "metadata": {},
     "output_type": "execute_result"
    }
   ],
   "source": [
    "grid.best_params_"
   ]
  },
  {
   "cell_type": "code",
   "execution_count": 72,
   "metadata": {
    "ExecuteTime": {
     "end_time": "2019-12-16T21:36:08.287983Z",
     "start_time": "2019-12-16T21:36:08.240379Z"
    }
   },
   "outputs": [
    {
     "data": {
      "text/plain": [
       "0.7"
      ]
     },
     "execution_count": 72,
     "metadata": {},
     "output_type": "execute_result"
    }
   ],
   "source": [
    "accuracy_score(Y_test, grid.best_estimator_.predict(X_test))"
   ]
  },
  {
   "cell_type": "code",
   "execution_count": 180,
   "metadata": {
    "ExecuteTime": {
     "end_time": "2019-12-16T23:55:13.151161Z",
     "start_time": "2019-12-16T23:55:13.137587Z"
    }
   },
   "outputs": [
    {
     "name": "stdout",
     "output_type": "stream",
     "text": [
      "              precision    recall  f1-score   support\n",
      "\n",
      "      benign       0.67      0.76      0.71        29\n",
      "   malignant       0.74      0.65      0.69        31\n",
      "\n",
      "    accuracy                           0.70        60\n",
      "   macro avg       0.70      0.70      0.70        60\n",
      "weighted avg       0.70      0.70      0.70        60\n",
      "\n"
     ]
    }
   ],
   "source": [
    "from sklearn.metrics import classification_report\n",
    "print(classification_report(Y_test, grid.predict(X_test), target_names=['benign', 'malignant']))"
   ]
  },
  {
   "cell_type": "code",
   "execution_count": 92,
   "metadata": {
    "ExecuteTime": {
     "end_time": "2019-12-16T21:59:25.301854Z",
     "start_time": "2019-12-16T21:59:25.030954Z"
    }
   },
   "outputs": [
    {
     "data": {
      "image/png": "[encoded data removed]",
      "text/plain": [
       "<Figure size 432x288 with 2 Axes>"
      ]
     },
     "metadata": {},
     "output_type": "display_data"
    }
   ],
   "source": [
    "from sklearn.metrics import confusion_matrix\n",
    "cm = confusion_matrix(Y_test, grid.predict(X_test))\n",
    "cm_normalized = cm.astype('float') / cm.sum(axis=1)[:, np.newaxis]\n",
    "# print('Normalized confusion matrix')\n",
    "# print(cm_normalized)\n",
    "plt.figure()\n",
    "plot_confusion_matrix(cm_normalized, title='Normalized confusion matrix (SVM)')\n",
    "plt.show()"
   ]
  },
  {
   "cell_type": "code",
   "execution_count": 181,
   "metadata": {
    "ExecuteTime": {
     "end_time": "2019-12-17T00:02:45.455803Z",
     "start_time": "2019-12-17T00:02:45.001214Z"
    }
   },
   "outputs": [
    {
     "data": {
      "image/png": "[encoded data removed]",
      "text/plain": [
       "<Figure size 432x288 with 1 Axes>"
      ]
     },
     "metadata": {},
     "output_type": "display_data"
    }
   ],
   "source": [
    "plot_roc_auc(Y_test,grid.decision_function(X_test), 'SVM: Receiver operating characteristic (Holdout set)')"
   ]
  },
  {
   "cell_type": "code",
   "execution_count": 187,
   "metadata": {
    "ExecuteTime": {
     "end_time": "2019-12-17T00:22:29.408720Z",
     "start_time": "2019-12-17T00:12:03.492843Z"
    }
   },
   "outputs": [
    {
     "name": "stdout",
     "output_type": "stream",
     "text": [
      "Fitting 10 folds for each of 294 candidates, totalling 2940 fits\n"
     ]
    },
    {
     "name": "stderr",
     "output_type": "stream",
     "text": [
      "[Parallel(n_jobs=5)]: Using backend LokyBackend with 5 concurrent workers.\n",
      "[Parallel(n_jobs=5)]: Done  22 tasks      | elapsed:    2.0s\n",
      "[Parallel(n_jobs=5)]: Done 201 tasks      | elapsed:   14.4s\n",
      "[Parallel(n_jobs=5)]: Done 368 tasks      | elapsed:   43.3s\n",
      "[Parallel(n_jobs=5)]: Done 592 tasks      | elapsed:  1.3min\n",
      "[Parallel(n_jobs=5)]: Done 880 tasks      | elapsed:  2.3min\n",
      "[Parallel(n_jobs=5)]: Done 1232 tasks      | elapsed:  3.3min\n",
      "[Parallel(n_jobs=5)]: Done 1648 tasks      | elapsed:  4.7min\n",
      "[Parallel(n_jobs=5)]: Done 2128 tasks      | elapsed:  6.5min\n",
      "[Parallel(n_jobs=5)]: Done 2672 tasks      | elapsed:  8.7min\n",
      "[Parallel(n_jobs=5)]: Done 2940 out of 2940 | elapsed: 10.4min finished\n"
     ]
    },
    {
     "data": {
      "text/plain": [
       "GridSearchCV(cv=KFold(n_splits=10, random_state=None, shuffle=False),\n",
       "             error_score='raise-deprecating',\n",
       "             estimator=RandomForestClassifier(bootstrap=True, class_weight=None,\n",
       "                                              criterion='gini', max_depth=None,\n",
       "                                              max_features='auto',\n",
       "                                              max_leaf_nodes=None,\n",
       "                                              min_impurity_decrease=0.0,\n",
       "                                              min_impurity_split=None,\n",
       "                                              min_samples_leaf=1,\n",
       "                                              min_samples_split=2,\n",
       "                                              min_weight_fraction_leaf...\n",
       "                                              n_estimators='warn', n_jobs=None,\n",
       "                                              oob_score=False, random_state=42,\n",
       "                                              verbose=0, warm_start=False),\n",
       "             iid='warn', n_jobs=5,\n",
       "             param_grid={'max_features': [6, 11, 16, 21, 26, 31],\n",
       "                         'n_estimators': [10, 20, 30, 40, 50, 60, 70, 80, 90,\n",
       "                                          100, 110, 120, 130, 140, 150, 160,\n",
       "                                          170, 180, 190, 200, 210, 220, 230,\n",
       "                                          240, 250, 260, 270, 280, 290, 300, ...]},\n",
       "             pre_dispatch='2*n_jobs', refit=True, return_train_score=False,\n",
       "             scoring='accuracy', verbose=3)"
      ]
     },
     "execution_count": 187,
     "metadata": {},
     "output_type": "execute_result"
    }
   ],
   "source": [
    "params= {\n",
    "    'n_estimators' : list(range(10,500,10)),\n",
    "    'max_features' : list(range(6,32,5))\n",
    "}\n",
    "rf_grid = GridSearchCV(RandomForestClassifier(random_state=seed), params, refit=True, cv=KFold(n_splits=10), verbose=3,scoring=\"accuracy\", n_jobs=5)\n",
    "rf_grid.fit(X_train, Y_train)"
   ]
  },
  {
   "cell_type": "code",
   "execution_count": 188,
   "metadata": {
    "ExecuteTime": {
     "end_time": "2019-12-17T00:23:24.629845Z",
     "start_time": "2019-12-17T00:23:24.621576Z"
    }
   },
   "outputs": [
    {
     "data": {
      "text/plain": [
       "{'max_features': 16, 'n_estimators': 420}"
      ]
     },
     "execution_count": 188,
     "metadata": {},
     "output_type": "execute_result"
    }
   ],
   "source": [
    "rf_grid.best_params_"
   ]
  },
  {
   "cell_type": "code",
   "execution_count": 189,
   "metadata": {
    "ExecuteTime": {
     "end_time": "2019-12-17T00:24:17.362327Z",
     "start_time": "2019-12-17T00:24:17.304123Z"
    }
   },
   "outputs": [
    {
     "data": {
      "text/plain": [
       "0.7333333333333333"
      ]
     },
     "execution_count": 189,
     "metadata": {},
     "output_type": "execute_result"
    }
   ],
   "source": [
    "accuracy_score(Y_test, rf_grid.best_estimator_.predict(X_test))"
   ]
  },
  {
   "cell_type": "code",
   "execution_count": 191,
   "metadata": {
    "ExecuteTime": {
     "end_time": "2019-12-17T00:24:57.318502Z",
     "start_time": "2019-12-17T00:24:57.255517Z"
    }
   },
   "outputs": [
    {
     "name": "stdout",
     "output_type": "stream",
     "text": [
      "              precision    recall  f1-score   support\n",
      "\n",
      "      benign       0.76      0.66      0.70        29\n",
      "   malignant       0.71      0.81      0.76        31\n",
      "\n",
      "    accuracy                           0.73        60\n",
      "   macro avg       0.74      0.73      0.73        60\n",
      "weighted avg       0.74      0.73      0.73        60\n",
      "\n"
     ]
    }
   ],
   "source": [
    "print(classification_report(Y_test, rf_grid.predict(X_test), target_names=['benign', 'malignant']))"
   ]
  },
  {
   "cell_type": "code",
   "execution_count": 192,
   "metadata": {
    "ExecuteTime": {
     "end_time": "2019-12-17T00:28:21.482101Z",
     "start_time": "2019-12-17T00:28:20.722541Z"
    }
   },
   "outputs": [
    {
     "data": {
      "image/png": "[encoded data removed]",
      "text/plain": [
       "<Figure size 432x288 with 2 Axes>"
      ]
     },
     "metadata": {},
     "output_type": "display_data"
    }
   ],
   "source": [
    "cm = confusion_matrix(Y_test, rf_grid.predict(X_test))\n",
    "cm_normalized = cm.astype('float') / cm.sum(axis=1)[:, np.newaxis]\n",
    "plt.figure()\n",
    "plot_confusion_matrix(cm_normalized, title='Normalized confusion matrix (RandomForest)')\n",
    "plt.show()"
   ]
  },
  {
   "cell_type": "code",
   "execution_count": 198,
   "metadata": {
    "ExecuteTime": {
     "end_time": "2019-12-17T00:33:27.756520Z",
     "start_time": "2019-12-17T00:33:27.398999Z"
    }
   },
   "outputs": [
    {
     "data": {
      "image/png": "[encoded data removed]",
      "text/plain": [
       "<Figure size 432x288 with 1 Axes>"
      ]
     },
     "metadata": {},
     "output_type": "display_data"
    }
   ],
   "source": [
    "plot_roc_auc(Y_test,rf_grid.predict_proba(X_test)[:,1], 'RandomForest: Receiver operating characteristic (Holdout set)')"
   ]
  },
  {
   "cell_type": "code",
   "execution_count": 199,
   "metadata": {
    "ExecuteTime": {
     "end_time": "2019-12-17T00:37:21.766992Z",
     "start_time": "2019-12-17T00:37:19.143636Z"
    }
   },
   "outputs": [
    {
     "name": "stdout",
     "output_type": "stream",
     "text": [
      "Fitting 10 folds for each of 11 candidates, totalling 110 fits\n"
     ]
    },
    {
     "name": "stderr",
     "output_type": "stream",
     "text": [
      "[Parallel(n_jobs=5)]: Using backend LokyBackend with 5 concurrent workers.\n",
      "[Parallel(n_jobs=5)]: Done  22 tasks      | elapsed:    1.9s\n",
      "[Parallel(n_jobs=5)]: Done 110 out of 110 | elapsed:    2.5s finished\n"
     ]
    },
    {
     "data": {
      "text/plain": [
       "GridSearchCV(cv=KFold(n_splits=10, random_state=None, shuffle=False),\n",
       "             error_score='raise-deprecating',\n",
       "             estimator=LinearDiscriminantAnalysis(n_components=None,\n",
       "                                                  priors=None, shrinkage=None,\n",
       "                                                  solver='lsqr',\n",
       "                                                  store_covariance=False,\n",
       "                                                  tol=0.0001),\n",
       "             iid='warn', n_jobs=5,\n",
       "             param_grid={'shrinkage': array([0. , 0.1, 0.2, 0.3, 0.4, 0.5, 0.6, 0.7, 0.8, 0.9, 1. ])},\n",
       "             pre_dispatch='2*n_jobs', refit=True, return_train_score=False,\n",
       "             scoring='accuracy', verbose=3)"
      ]
     },
     "execution_count": 199,
     "metadata": {},
     "output_type": "execute_result"
    }
   ],
   "source": [
    "params = {\n",
    "    'shrinkage' : np.arange(0, 1.1, 0.1)\n",
    "}\n",
    "lda_grid =  GridSearchCV(LinearDiscriminantAnalysis(solver='lsqr'), params, refit=True, cv=KFold(n_splits=10), verbose=3,scoring=\"accuracy\", n_jobs=5)\n",
    "lda_grid.fit(X_train, Y_train)"
   ]
  },
  {
   "cell_type": "code",
   "execution_count": 200,
   "metadata": {
    "ExecuteTime": {
     "end_time": "2019-12-17T00:37:32.232604Z",
     "start_time": "2019-12-17T00:37:32.227452Z"
    }
   },
   "outputs": [
    {
     "data": {
      "text/plain": [
       "{'shrinkage': 0.9}"
      ]
     },
     "execution_count": 200,
     "metadata": {},
     "output_type": "execute_result"
    }
   ],
   "source": [
    "lda_grid.best_params_"
   ]
  },
  {
   "cell_type": "code",
   "execution_count": 202,
   "metadata": {
    "ExecuteTime": {
     "end_time": "2019-12-17T00:38:55.820821Z",
     "start_time": "2019-12-17T00:38:55.800017Z"
    }
   },
   "outputs": [
    {
     "name": "stdout",
     "output_type": "stream",
     "text": [
      "              precision    recall  f1-score   support\n",
      "\n",
      "      benign       0.64      0.79      0.71        29\n",
      "   malignant       0.75      0.58      0.65        31\n",
      "\n",
      "    accuracy                           0.68        60\n",
      "   macro avg       0.69      0.69      0.68        60\n",
      "weighted avg       0.70      0.68      0.68        60\n",
      "\n"
     ]
    }
   ],
   "source": [
    "print(classification_report(Y_test, lda_grid.predict(X_test), target_names=['benign', 'malignant']))"
   ]
  },
  {
   "cell_type": "code",
   "execution_count": 203,
   "metadata": {
    "ExecuteTime": {
     "end_time": "2019-12-17T00:41:15.207437Z",
     "start_time": "2019-12-17T00:41:14.871688Z"
    }
   },
   "outputs": [
    {
     "data": {
      "image/png": "[encoded data removed]",
      "text/plain": [
       "<Figure size 432x288 with 2 Axes>"
      ]
     },
     "metadata": {},
     "output_type": "display_data"
    }
   ],
   "source": [
    "cm = confusion_matrix(Y_test, lda_grid.predict(X_test))\n",
    "cm_normalized = cm.astype('float') / cm.sum(axis=1)[:, np.newaxis]\n",
    "plt.figure()\n",
    "plot_confusion_matrix(cm_normalized, title='Normalized confusion matrix (LinearDiscriminantAnalysis)')\n",
    "plt.show()"
   ]
  },
  {
   "cell_type": "code",
   "execution_count": 206,
   "metadata": {
    "ExecuteTime": {
     "end_time": "2019-12-17T00:44:06.485418Z",
     "start_time": "2019-12-17T00:44:06.179495Z"
    }
   },
   "outputs": [
    {
     "data": {
      "image/png": "[encoded data removed]",
      "text/plain": [
       "<Figure size 432x288 with 1 Axes>"
      ]
     },
     "metadata": {},
     "output_type": "display_data"
    }
   ],
   "source": [
    "df = pd.DataFrame(lda_grid.cv_results_)\n",
    "plt.plot(params['shrinkage'], df['mean_test_score'])\n",
    "plt.title(\"LDA: Accuracy vs Shrinkage\")\n",
    "plt.xlabel(\"Shrinkage\")\n",
    "plt.ylabel(\"Accuracy\")\n",
    "plt.show()"
   ]
  },
  {
   "cell_type": "code",
   "execution_count": 177,
   "metadata": {
    "ExecuteTime": {
     "end_time": "2019-12-16T23:45:37.835415Z",
     "start_time": "2019-12-16T23:45:37.818872Z"
    }
   },
   "outputs": [
    {
     "data": {
      "text/plain": [
       "0.6833333333333333"
      ]
     },
     "execution_count": 177,
     "metadata": {},
     "output_type": "execute_result"
    }
   ],
   "source": [
    "accuracy_score(Y_test, lda_grid.best_estimator_.predict(X_test))"
   ]
  },
  {
   "cell_type": "code",
   "execution_count": 205,
   "metadata": {
    "ExecuteTime": {
     "end_time": "2019-12-17T00:42:33.926610Z",
     "start_time": "2019-12-17T00:42:33.624353Z"
    }
   },
   "outputs": [
    {
     "data": {
      "image/png": "[encoded data removed]",
      "text/plain": [
       "<Figure size 432x288 with 1 Axes>"
      ]
     },
     "metadata": {},
     "output_type": "display_data"
    }
   ],
   "source": [
    "plot_roc_auc(Y_test,lda_grid.predict_proba(X_test)[:,1], 'LinearDiscriminantAnalysis: Receiver operating characteristic (Holdout set)')"
   ]
  }
 ],
 "metadata": {
  "kernelspec": {
   "display_name": "Python 3",
   "language": "python",
   "name": "python3"
  },
  "language_info": {
   "codemirror_mode": {
    "name": "ipython",
    "version": 3
   },
   "file_extension": ".py",
   "mimetype": "text/x-python",
   "name": "python",
   "nbconvert_exporter": "python",
   "pygments_lexer": "ipython3",
   "version": "3.6.5"
  }
 },
 "nbformat": 4,
 "nbformat_minor": 2
}
